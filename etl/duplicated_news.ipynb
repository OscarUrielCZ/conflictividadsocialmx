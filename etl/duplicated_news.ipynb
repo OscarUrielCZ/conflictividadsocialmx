{
 "cells": [
  {
   "cell_type": "code",
   "execution_count": 1,
   "id": "4d6c5f3a",
   "metadata": {},
   "outputs": [],
   "source": [
    "import datetime"
   ]
  },
  {
   "cell_type": "code",
   "execution_count": 2,
   "id": "c84d7601",
   "metadata": {},
   "outputs": [],
   "source": [
    "import pandas as pd"
   ]
  },
  {
   "cell_type": "code",
   "execution_count": 3,
   "id": "ac3b2626",
   "metadata": {},
   "outputs": [
    {
     "data": {
      "text/plain": [
       "'1.3.5'"
      ]
     },
     "execution_count": 3,
     "metadata": {},
     "output_type": "execute_result"
    }
   ],
   "source": [
    "pd.__version__"
   ]
  },
  {
   "cell_type": "code",
   "execution_count": 4,
   "id": "e24f937b",
   "metadata": {},
   "outputs": [
    {
     "data": {
      "text/plain": [
       "(31, 3)"
      ]
     },
     "execution_count": 4,
     "metadata": {},
     "output_type": "execute_result"
    }
   ],
   "source": [
    "df1 = pd.read_csv('data/2021_12_15_eluniversal_articles.csv')\n",
    "df1.shape"
   ]
  },
  {
   "cell_type": "code",
   "execution_count": 5,
   "id": "4fc92fc1",
   "metadata": {},
   "outputs": [
    {
     "data": {
      "text/plain": [
       "(31, 6)"
      ]
     },
     "execution_count": 5,
     "metadata": {},
     "output_type": "execute_result"
    }
   ],
   "source": [
    "df2 = pd.read_csv('data/2021_12_16_eluniversal_articles.csv')\n",
    "df2.shape"
   ]
  },
  {
   "cell_type": "code",
   "execution_count": 6,
   "id": "ba4c7338",
   "metadata": {},
   "outputs": [
    {
     "data": {
      "text/plain": [
       "(31, 7)"
      ]
     },
     "execution_count": 6,
     "metadata": {},
     "output_type": "execute_result"
    }
   ],
   "source": [
    "df3 = pd.read_csv('data/2021_12_16_eluniversal_articles_3.csv');\n",
    "df3.shape"
   ]
  },
  {
   "cell_type": "code",
   "execution_count": 7,
   "id": "388a718c",
   "metadata": {},
   "outputs": [
    {
     "data": {
      "text/plain": [
       "(27, 7)"
      ]
     },
     "execution_count": 7,
     "metadata": {},
     "output_type": "execute_result"
    }
   ],
   "source": [
    "df4 = pd.read_csv('data/2021_12_16_eluniversal_articles_4.csv');\n",
    "df4.shape"
   ]
  },
  {
   "cell_type": "code",
   "execution_count": 10,
   "id": "17800334",
   "metadata": {},
   "outputs": [],
   "source": [
    "dates = [\n",
    "    datetime.datetime(2021, 12, 15, 23, 42).isoformat(),\n",
    "    datetime.datetime(2021, 12, 16, 1, 38).isoformat(),\n",
    "    datetime.datetime(2021, 12, 16, 1, 55).isoformat(),\n",
    "    datetime.datetime(2021, 12, 16, 20, 50).isoformat()\n",
    "]"
   ]
  },
  {
   "cell_type": "code",
   "execution_count": 11,
   "id": "8c366b97",
   "metadata": {},
   "outputs": [],
   "source": [
    "df1['extraction_date'] = dates[0]\n",
    "df2['extraction_date'] = dates[1]\n",
    "df3['extraction_date'] = dates[2]\n",
    "df4['extraction_date'] = dates[3]"
   ]
  },
  {
   "cell_type": "code",
   "execution_count": 12,
   "id": "83397c5d",
   "metadata": {},
   "outputs": [],
   "source": [
    "def delete_duplicate_urls(dfs):\n",
    "    all_df = pd.concat(dfs)\n",
    "    return all_df.loc[~all_df.url.duplicated(keep='last')]"
   ]
  },
  {
   "cell_type": "code",
   "execution_count": 13,
   "id": "587fd64f",
   "metadata": {},
   "outputs": [
    {
     "data": {
      "text/plain": [
       "(64, 8)"
      ]
     },
     "execution_count": 13,
     "metadata": {},
     "output_type": "execute_result"
    }
   ],
   "source": [
    "result = delete_duplicate_urls([df1, df2, df3, df4])\n",
    "result.shape"
   ]
  },
  {
   "cell_type": "code",
   "execution_count": 14,
   "id": "436b39d8",
   "metadata": {},
   "outputs": [
    {
     "data": {
      "text/html": [
       "<div>\n",
       "<style scoped>\n",
       "    .dataframe tbody tr th:only-of-type {\n",
       "        vertical-align: middle;\n",
       "    }\n",
       "\n",
       "    .dataframe tbody tr th {\n",
       "        vertical-align: top;\n",
       "    }\n",
       "\n",
       "    .dataframe thead th {\n",
       "        text-align: right;\n",
       "    }\n",
       "</style>\n",
       "<table border=\"1\" class=\"dataframe\">\n",
       "  <thead>\n",
       "    <tr style=\"text-align: right;\">\n",
       "      <th></th>\n",
       "      <th>body</th>\n",
       "      <th>title</th>\n",
       "      <th>url</th>\n",
       "      <th>extraction_date</th>\n",
       "      <th>date</th>\n",
       "      <th>location</th>\n",
       "      <th>time</th>\n",
       "      <th>image</th>\n",
       "    </tr>\n",
       "  </thead>\n",
       "  <tbody>\n",
       "    <tr>\n",
       "      <th>4</th>\n",
       "      <td>\\r\\nEl Consejo General del Instituto Electoral...</td>\n",
       "      <td>Pierden registro PES, Redes Sociales Progresis...</td>\n",
       "      <td>https://www.eluniversal.com.mx/metropoli/pierd...</td>\n",
       "      <td>2021-12-15T23:42:00</td>\n",
       "      <td>NaN</td>\n",
       "      <td>NaN</td>\n",
       "      <td>NaN</td>\n",
       "      <td>NaN</td>\n",
       "    </tr>\n",
       "    <tr>\n",
       "      <th>5</th>\n",
       "      <td>\\r\\nTlalnepantla, Méx.- Para garantizar el reg...</td>\n",
       "      <td>Profesores de Edomex vacunados con Cansino rec...</td>\n",
       "      <td>https://www.eluniversal.com.mx/metropoli/profe...</td>\n",
       "      <td>2021-12-15T23:42:00</td>\n",
       "      <td>NaN</td>\n",
       "      <td>NaN</td>\n",
       "      <td>NaN</td>\n",
       "      <td>NaN</td>\n",
       "    </tr>\n",
       "    <tr>\n",
       "      <th>9</th>\n",
       "      <td>\\r\\nEl brote de Covid-19 en los Browns ha empe...</td>\n",
       "      <td>Preocupante brote de Covid-19 en la NFL</td>\n",
       "      <td>https://www.eluniversal.com.mx/universal-depor...</td>\n",
       "      <td>2021-12-15T23:42:00</td>\n",
       "      <td>NaN</td>\n",
       "      <td>NaN</td>\n",
       "      <td>NaN</td>\n",
       "      <td>NaN</td>\n",
       "    </tr>\n",
       "    <tr>\n",
       "      <th>19</th>\n",
       "      <td>\\r\\nPara eficientar los proyectos de inversión...</td>\n",
       "      <td>Se reúnen gobernador de Sonora y el embajador ...</td>\n",
       "      <td>https://www.eluniversal.com.mx/estados/se-reun...</td>\n",
       "      <td>2021-12-15T23:42:00</td>\n",
       "      <td>NaN</td>\n",
       "      <td>NaN</td>\n",
       "      <td>NaN</td>\n",
       "      <td>NaN</td>\n",
       "    </tr>\n",
       "    <tr>\n",
       "      <th>23</th>\n",
       "      <td>\\r\\nLa designación de Diego Alonso como el nue...</td>\n",
       "      <td>NaN</td>\n",
       "      <td>https://www.eluniversal.com.mx/opinion/gerardo...</td>\n",
       "      <td>2021-12-15T23:42:00</td>\n",
       "      <td>NaN</td>\n",
       "      <td>NaN</td>\n",
       "      <td>NaN</td>\n",
       "      <td>NaN</td>\n",
       "    </tr>\n",
       "  </tbody>\n",
       "</table>\n",
       "</div>"
      ],
      "text/plain": [
       "                                                 body  \\\n",
       "4   \\r\\nEl Consejo General del Instituto Electoral...   \n",
       "5   \\r\\nTlalnepantla, Méx.- Para garantizar el reg...   \n",
       "9   \\r\\nEl brote de Covid-19 en los Browns ha empe...   \n",
       "19  \\r\\nPara eficientar los proyectos de inversión...   \n",
       "23  \\r\\nLa designación de Diego Alonso como el nue...   \n",
       "\n",
       "                                                title  \\\n",
       "4   Pierden registro PES, Redes Sociales Progresis...   \n",
       "5   Profesores de Edomex vacunados con Cansino rec...   \n",
       "9             Preocupante brote de Covid-19 en la NFL   \n",
       "19  Se reúnen gobernador de Sonora y el embajador ...   \n",
       "23                                                NaN   \n",
       "\n",
       "                                                  url      extraction_date  \\\n",
       "4   https://www.eluniversal.com.mx/metropoli/pierd...  2021-12-15T23:42:00   \n",
       "5   https://www.eluniversal.com.mx/metropoli/profe...  2021-12-15T23:42:00   \n",
       "9   https://www.eluniversal.com.mx/universal-depor...  2021-12-15T23:42:00   \n",
       "19  https://www.eluniversal.com.mx/estados/se-reun...  2021-12-15T23:42:00   \n",
       "23  https://www.eluniversal.com.mx/opinion/gerardo...  2021-12-15T23:42:00   \n",
       "\n",
       "   date location time image  \n",
       "4   NaN      NaN  NaN   NaN  \n",
       "5   NaN      NaN  NaN   NaN  \n",
       "9   NaN      NaN  NaN   NaN  \n",
       "19  NaN      NaN  NaN   NaN  \n",
       "23  NaN      NaN  NaN   NaN  "
      ]
     },
     "execution_count": 14,
     "metadata": {},
     "output_type": "execute_result"
    }
   ],
   "source": [
    "result.head()"
   ]
  },
  {
   "cell_type": "code",
   "execution_count": 15,
   "id": "15021171",
   "metadata": {},
   "outputs": [],
   "source": [
    "result.to_csv('data/2021_12_16_eluniversal_no_dup.csv', index=False)"
   ]
  },
  {
   "cell_type": "code",
   "execution_count": null,
   "id": "cbe7955a",
   "metadata": {},
   "outputs": [],
   "source": []
  }
 ],
 "metadata": {
  "kernelspec": {
   "display_name": "Python 3",
   "language": "python",
   "name": "python3"
  },
  "language_info": {
   "codemirror_mode": {
    "name": "ipython",
    "version": 3
   },
   "file_extension": ".py",
   "mimetype": "text/x-python",
   "name": "python",
   "nbconvert_exporter": "python",
   "pygments_lexer": "ipython3",
   "version": "3.8.8"
  }
 },
 "nbformat": 4,
 "nbformat_minor": 5
}
